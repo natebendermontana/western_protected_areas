{
 "cells": [
  {
   "cell_type": "code",
   "execution_count": 1,
   "id": "4c849ee3",
   "metadata": {},
   "outputs": [],
   "source": [
    "import pandas as pd\n",
    "import os\n",
    "import glob\n",
    "import chardet\n",
    "import re"
   ]
  },
  {
   "cell_type": "code",
   "execution_count": 2,
   "id": "3c3ddad7",
   "metadata": {},
   "outputs": [],
   "source": [
    "# Specify the folder path\n",
    "folder_path = '/Users/natebender/Documents/ArcGIS/Projects/Western_protected_lands/census_raw'\n",
    "\n",
    "# Construct file paths for the CSV files\n",
    "ref_codes_df_path = os.path.join(folder_path, 'county_fips_master.csv')\n",
    "counties_2001_2010_path = os.path.join(folder_path, 'co-estint-tot_2001_2010.csv')\n",
    "counties_2010_2020_path = os.path.join(folder_path, 'co-est2010_2020.csv')\n",
    "counties_2020_2022_path = os.path.join(folder_path, 'co-est2020_2022-alldata.csv')\n",
    "\n",
    "# Read CSV files into DataFrames with the correct encoding\n",
    "ref_codes_df = pd.read_csv(ref_codes_df_path, encoding='latin-1')  # Use 'latin-1' encoding\n",
    "cntys_2001_2010 = pd.read_csv(counties_2001_2010_path, encoding='latin-1')  # Use 'latin-1' encoding\n",
    "cntys_2010_2020 = pd.read_csv(counties_2010_2020_path, encoding='latin-1')  # Use 'latin-1' encoding\n",
    "cntys_2020_2022 = pd.read_csv(counties_2020_2022_path, encoding='latin-1')  # Use 'latin-1' encoding\n"
   ]
  },
  {
   "cell_type": "code",
   "execution_count": 3,
   "id": "1a2715c5",
   "metadata": {},
   "outputs": [],
   "source": [
    "# drop the overlapping data from the older datasets\n",
    "cntys_2001_2010 = cntys_2001_2010.drop('POPESTIMATE2010', axis=1)\n",
    "cntys_2010_2020 = cntys_2010_2020.drop('POPESTIMATE2020', axis=1)\n",
    "\n",
    "#and drop the extra pop data; the BEA data only goes through 2001-2021\n",
    "cntys_2001_2010 = cntys_2001_2010.drop('POPESTIMATE2000', axis=1)\n",
    "cntys_2020_2022 = cntys_2020_2022.drop('POPESTIMATE2022', axis=1)"
   ]
  },
  {
   "cell_type": "code",
   "execution_count": 4,
   "id": "c6f7cbff",
   "metadata": {},
   "outputs": [
    {
     "name": "stdout",
     "output_type": "stream",
     "text": [
      "      SUMLEV  REGION  DIVISION  STATE  COUNTY      STNAME           CTYNAME  \\\n",
      "1836      50       4         8     35      13  New Mexico  DoÃ±a Ana County   \n",
      "\n",
      "      ESTIMATESBASE2020  POPESTIMATE2020  POPESTIMATE2021  ...  RDEATH2021  \\\n",
      "1836             219567           220047           221655  ...   10.731217   \n",
      "\n",
      "      RDEATH2022  RNATURALCHG2021  RNATURALCHG2022  RINTERNATIONALMIG2021  \\\n",
      "1836   11.038401         0.117726        -0.471919               1.371966   \n",
      "\n",
      "      RINTERNATIONALMIG2022  RDOMESTICMIG2021  RDOMESTICMIG2022  RNETMIG2021  \\\n",
      "1836               3.761865          5.293161          4.530419     6.665127   \n",
      "\n",
      "      RNETMIG2022  \n",
      "1836     8.292284  \n",
      "\n",
      "[1 rows x 50 columns]\n",
      "      SUMLEV  REGION  DIVISION  STATE  COUNTY      STNAME          CTYNAME  \\\n",
      "1836      50       4         8     35      13  New Mexico  Doña Ana County   \n",
      "\n",
      "      ESTIMATESBASE2020  POPESTIMATE2020  POPESTIMATE2021  ...  RDEATH2021  \\\n",
      "1836             219567           220047           221655  ...   10.731217   \n",
      "\n",
      "      RDEATH2022  RNATURALCHG2021  RNATURALCHG2022  RINTERNATIONALMIG2021  \\\n",
      "1836   11.038401         0.117726        -0.471919               1.371966   \n",
      "\n",
      "      RINTERNATIONALMIG2022  RDOMESTICMIG2021  RDOMESTICMIG2022  RNETMIG2021  \\\n",
      "1836               3.761865          5.293161          4.530419     6.665127   \n",
      "\n",
      "      RNETMIG2022  \n",
      "1836     8.292284  \n",
      "\n",
      "[1 rows x 50 columns]\n"
     ]
    }
   ],
   "source": [
    "# show that the Doña Ana County in the '20-'22 dataset is encoded incorrectly\n",
    "print(cntys_2020_2022[(cntys_2020_2022[\"COUNTY\"] == 13) & (cntys_2020_2022['STNAME'] == 'New Mexico')])\n",
    "\n",
    "# and fix it!\n",
    "# Find the specific row\n",
    "mask = (cntys_2020_2022[\"COUNTY\"] == 13) & (cntys_2020_2022['STNAME'] == 'New Mexico')\n",
    "\n",
    "# Rename the 'CTYNAME' for the specific row to \"Doña Ana County\"\n",
    "cntys_2020_2022.loc[mask, 'CTYNAME'] = 'Doña Ana County'\n",
    "\n",
    "# now double check\n",
    "print(cntys_2020_2022[(cntys_2020_2022[\"COUNTY\"] == 13) & (cntys_2020_2022['STNAME'] == 'New Mexico')])"
   ]
  },
  {
   "cell_type": "code",
   "execution_count": 5,
   "id": "10dbd69b",
   "metadata": {},
   "outputs": [],
   "source": [
    "# Merge the three DataFrames based on the common columns: region, division, state, and county\n",
    "firstmerge_df = cntys_2001_2010.merge(cntys_2010_2020, on=['REGION', 'DIVISION', 'STATE',\n",
    "                                                           'COUNTY', 'STNAME', 'CTYNAME'], how='inner')\n",
    "merged_df = firstmerge_df.merge(cntys_2020_2022, on=['REGION', 'DIVISION', 'STATE', \n",
    "                                                     'COUNTY', 'STNAME', 'CTYNAME'], how='inner')"
   ]
  },
  {
   "cell_type": "code",
   "execution_count": 6,
   "id": "fba68059",
   "metadata": {},
   "outputs": [],
   "source": [
    "# b) Change all column names to lowercase\n",
    "merged_df.columns = merged_df.columns.str.lower()\n",
    "\n",
    "# Merge based on common columns (region, division, state, county)\n",
    "merged_df = merged_df.merge(ref_codes_df[['region', 'division', 'state', 'county', 'fips']], \n",
    "                                  on=['region', 'division', 'state', 'county'], how='left')\n",
    "\n",
    "merged_df.reset_index(drop=True, inplace=True)"
   ]
  },
  {
   "cell_type": "code",
   "execution_count": 7,
   "id": "54a10da7",
   "metadata": {},
   "outputs": [],
   "source": [
    "# Create a regular expression pattern for \"popestimate\" columns\n",
    "pattern = re.compile(r'^popestimate\\d{4}$')\n",
    "\n",
    "# Keep only the specified columns and columns that match the \"popestimate\" pattern\n",
    "columns_to_keep = ['region', 'division', 'state', 'county', 'stname', 'ctyname', 'fips'] + [col for col in merged_df.columns if pattern.match(col)]\n",
    "\n",
    "# Select only the specified columns\n",
    "merged_df = merged_df[columns_to_keep]"
   ]
  },
  {
   "cell_type": "code",
   "execution_count": 8,
   "id": "957bd425",
   "metadata": {},
   "outputs": [],
   "source": [
    "# List of full state names\n",
    "selected_states = ['Arizona', 'California', 'Colorado', 'Idaho', 'Montana', 'New Mexico', 'Nevada', 'Oregon', 'Utah', 'Washington', 'Wyoming']\n",
    "\n",
    "# Filter the DataFrame to include only the selected states\n",
    "filtered_df = merged_df[merged_df['stname'].isin(selected_states)].copy()\n",
    "\n",
    "# Filter out rows where 'ctyname' is the same as 'stname' so we only work with counties, not the state-level rows\n",
    "filtered_df = filtered_df[filtered_df['ctyname'] != filtered_df['stname']]\n",
    "\n",
    "# convert FIPS to integer and change name to align with BEA nomenclature\n",
    "filtered_df['fips'] = filtered_df['fips'].astype(int)\n",
    "filtered_df = filtered_df.rename(columns={'fips': 'geofips'})"
   ]
  },
  {
   "cell_type": "code",
   "execution_count": 9,
   "id": "d21a2af3",
   "metadata": {},
   "outputs": [],
   "source": [
    "# Create a dictionary to map old column names to new column names, to get the years labeled correctly\n",
    "columns_to_rename = {}\n",
    "for col in filtered_df.columns:\n",
    "    if col.startswith('popestimate'):\n",
    "        year = col[-4:]  # Extract the year from the column name\n",
    "        new_col_name = f'yr_{year}'\n",
    "        columns_to_rename[col] = new_col_name\n",
    "\n",
    "# Rename the columns using the dictionary\n",
    "filtered_df = filtered_df.rename(columns=columns_to_rename)"
   ]
  },
  {
   "cell_type": "code",
   "execution_count": 10,
   "id": "5e6cb8da",
   "metadata": {},
   "outputs": [],
   "source": [
    "# Add two new cols to help with merging w BEA data\n",
    "\n",
    "# Add the \"Description\" column with the value \"population\"\n",
    "filtered_df['description'] = 'population'\n",
    "\n",
    "# Add the \"LineCode\" column with the value 20\n",
    "filtered_df['linecode'] = 20"
   ]
  },
  {
   "cell_type": "code",
   "execution_count": 11,
   "id": "fbe781fe",
   "metadata": {},
   "outputs": [
    {
     "name": "stdout",
     "output_type": "stream",
     "text": [
      "There are 11 unique states and 414 unique counties represented.\n"
     ]
    }
   ],
   "source": [
    "# Get the unique state names from 'filtered_df'\n",
    "unique_states = filtered_df['stname'].unique()\n",
    "unique_cntys = filtered_df['geofips'].unique()\n",
    "\n",
    "\n",
    "# Check if there are exactly 11 unique states\n",
    "if (len(unique_states) == 11) and (len(unique_cntys) == 414):\n",
    "    print(\"There are 11 unique states and 414 unique counties represented.\")\n",
    "else:\n",
    "    print(f\"Error: There are {len(unique_states)} unique states, but there should be 11.\")"
   ]
  },
  {
   "cell_type": "code",
   "execution_count": 12,
   "id": "af5888b0",
   "metadata": {},
   "outputs": [],
   "source": [
    "# Create the output file path using the state abbreviation\n",
    "output_file_path = f'/Users/natebender/Documents/ArcGIS/Projects/Western_protected_lands/census_clean/census_2001_2021_clean.csv'\n",
    "\n",
    "# Save the cleaned DataFrame to the output file\n",
    "filtered_df.to_csv(output_file_path, index=False)"
   ]
  },
  {
   "cell_type": "code",
   "execution_count": null,
   "id": "05b82294",
   "metadata": {},
   "outputs": [],
   "source": []
  }
 ],
 "metadata": {
  "kernelspec": {
   "display_name": "Python 3 (ipykernel)",
   "language": "python",
   "name": "python3"
  },
  "language_info": {
   "codemirror_mode": {
    "name": "ipython",
    "version": 3
   },
   "file_extension": ".py",
   "mimetype": "text/x-python",
   "name": "python",
   "nbconvert_exporter": "python",
   "pygments_lexer": "ipython3",
   "version": "3.9.7"
  }
 },
 "nbformat": 4,
 "nbformat_minor": 5
}
